{
 "cells": [
  {
   "cell_type": "code",
   "execution_count": 1,
   "metadata": {},
   "outputs": [],
   "source": [
    "class HistogramFilter1D:\n",
    "    \n",
    "  def __init__(self, world_map, hit_weight = 0.6, miss_weight = 0.2, \n",
    "                undershoot_prob = 0.1, overshoot_prob = 0.1, exact_prob = 0.8):\n",
    "    \n",
    "    self.hit_weight = hit_weight\n",
    "    self.miss_weight = miss_weight\n",
    "    \n",
    "    self.world_map = world_map\n",
    "    self.world_size = len(world_map)\n",
    "    self.current = self.confuse()\n",
    "    \n",
    "    self.undershoot_prob = undershoot_prob\n",
    "    self.overshoot_prob = overshoot_prob\n",
    "    self.exact_prob = exact_prob\n",
    "  \n",
    "  def set_current(self, prob):\n",
    "    self.current = prob\n",
    "\n",
    "  def get_current(self):\n",
    "    return self.current \n",
    "\n",
    "  def confuse(self):\n",
    "    self.current = [1 / self.world_size] * self.world_size\n",
    "    return self.current\n",
    "  \n",
    "  def sense(self, value):\n",
    "    \n",
    "    def normalize(x):\n",
    "      s = sum(x)\n",
    "      for i in range(len(x)):\n",
    "        x[i] = x[i] / s\n",
    "      return x\n",
    "    \n",
    "    for i in range(self.world_size):\n",
    "      if value == self.world_map[i]:\n",
    "        self.current[i] = self.hit_weight * self.current[i]\n",
    "      else:\n",
    "        self.current[i] = self.miss_weight * self.current[i]\n",
    "    \n",
    "    self.current = normalize(self.current)\n",
    "    return self.current\n",
    "\n",
    "  def move(self, steps): # cyclical world\n",
    "    \n",
    "    temp = [0] * self.world_size\n",
    "    \n",
    "    for position in range(self.world_size):\n",
    "      \n",
    "      val = self.current[position]\n",
    "        \n",
    "      loc_exact = (position + steps) % self.world_size\n",
    "      loc_over = (position + steps + 1) % self.world_size\n",
    "      loc_under =  (position + steps - 1) % self.world_size\n",
    "    \n",
    "      temp[loc_exact] += val * self.exact_prob\n",
    "      temp[loc_over] += val * self.overshoot_prob\n",
    "      temp[loc_under] += val * self.undershoot_prob\n",
    "    \n",
    "    self.current = temp \n",
    "    return temp\n",
    "      "
   ]
  },
  {
   "cell_type": "code",
   "execution_count": 2,
   "metadata": {},
   "outputs": [],
   "source": [
    "def formatted_print(s, l):\n",
    "    \n",
    "  s = str(s)\n",
    "  print('{:20}: '.format(s), end = \"\")\n",
    "\n",
    "  for i in range(len(l)):\n",
    "    print(\"{:.3f}\".format(l[i]), \" \", end = \"\")\n",
    "  \n",
    "  print()"
   ]
  },
  {
   "cell_type": "code",
   "execution_count": 3,
   "metadata": {},
   "outputs": [],
   "source": [
    "world = ['green', 'red', 'red', 'green', 'green']\n",
    "robot = HistogramFilter1D(world_map = world, \n",
    "          hit_weight = 0.6, miss_weight = 0.2,\n",
    "          exact_prob = 0.8, undershoot_prob = 0.1, overshoot_prob = 0.1)"
   ]
  },
  {
   "cell_type": "code",
   "execution_count": 4,
   "metadata": {},
   "outputs": [
    {
     "name": "stdout",
     "output_type": "stream",
     "text": [
      "initial             : 0.200  0.200  0.200  0.200  0.200  \n",
      "sensed red          : 0.111  0.333  0.333  0.111  0.111  \n",
      "sensed green        : 0.200  0.200  0.200  0.200  0.200  \n"
     ]
    }
   ],
   "source": [
    "formatted_print(\"initial\", robot.current)\n",
    "formatted_print(\"sensed red\" , robot.sense('red'))\n",
    "formatted_print(\"sensed green\",robot.sense('green'))"
   ]
  },
  {
   "cell_type": "code",
   "execution_count": 5,
   "metadata": {},
   "outputs": [
    {
     "name": "stdout",
     "output_type": "stream",
     "text": [
      "initial             : 0.000  1.000  0.000  0.000  0.000  \n",
      "moved one step      : 0.000  0.100  0.800  0.100  0.000  \n"
     ]
    }
   ],
   "source": [
    "robot.set_current([0, 1, 0, 0, 0])\n",
    "formatted_print(\"initial\", robot.get_current())\n",
    "formatted_print(\"moved one step\", robot.move(1))"
   ]
  },
  {
   "cell_type": "code",
   "execution_count": 6,
   "metadata": {},
   "outputs": [
    {
     "name": "stdout",
     "output_type": "stream",
     "text": [
      "initial             : 1.000  0.000  0.000  0.000  0.000  \n",
      "moved 100 steps     : 0.200  0.200  0.200  0.200  0.200  \n"
     ]
    }
   ],
   "source": [
    "robot.set_current([1, 0, 0, 0, 0])\n",
    "formatted_print(\"initial\", robot.get_current())\n",
    "\n",
    "for i in range(1000):\n",
    "  robot.move(1)\n",
    "\n",
    "formatted_print(\"moved 100 steps\", robot.get_current())"
   ]
  },
  {
   "cell_type": "code",
   "execution_count": 7,
   "metadata": {},
   "outputs": [
    {
     "name": "stdout",
     "output_type": "stream",
     "text": [
      "initial             : 0.000  1.000  0.000  0.000  0.000  \n",
      "moved one step      : 0.000  0.100  0.800  0.100  0.000  \n",
      "moved one step      : 0.010  0.010  0.160  0.660  0.160  \n"
     ]
    }
   ],
   "source": [
    "robot.set_current([0, 1, 0, 0, 0])\n",
    "formatted_print(\"initial\", robot.get_current())\n",
    "formatted_print(\"moved one step\", robot.move(1))\n",
    "formatted_print(\"moved one step\", robot.move(1))"
   ]
  },
  {
   "cell_type": "code",
   "execution_count": 8,
   "metadata": {},
   "outputs": [
    {
     "name": "stdout",
     "output_type": "stream",
     "text": [
      "initial             : 0.200  0.200  0.200  0.200  0.200  \n",
      "sensed red          : 0.111  0.333  0.333  0.111  0.111  \n",
      "moved one step      : 0.111  0.133  0.311  0.311  0.133  \n",
      "sensed green        : 0.158  0.063  0.147  0.442  0.189  \n",
      "moved one step      : 0.212  0.152  0.081  0.168  0.387  \n"
     ]
    }
   ],
   "source": [
    "formatted_print(\"initial\", robot.confuse())\n",
    "formatted_print(\"sensed red\", robot.sense('red'))\n",
    "formatted_print(\"moved one step\", robot.move(1))\n",
    "formatted_print(\"sensed green\", robot.sense('green'))\n",
    "formatted_print(\"moved one step\", robot.move(1))"
   ]
  },
  {
   "cell_type": "code",
   "execution_count": 9,
   "metadata": {},
   "outputs": [
    {
     "name": "stdout",
     "output_type": "stream",
     "text": [
      "initial             : 0.200  0.200  0.200  0.200  0.200  \n",
      "sensed red          : 0.111  0.333  0.333  0.111  0.111  \n",
      "moved one step      : 0.111  0.133  0.311  0.311  0.133  \n",
      "sensed red          : 0.059  0.212  0.494  0.165  0.071  \n",
      "moved one step      : 0.079  0.075  0.225  0.433  0.188  \n"
     ]
    }
   ],
   "source": [
    "formatted_print(\"initial\", robot.confuse())\n",
    "formatted_print(\"sensed red\", robot.sense('red'))\n",
    "formatted_print(\"moved one step\", robot.move(1))\n",
    "formatted_print(\"sensed red\", robot.sense('red'))\n",
    "formatted_print(\"moved one step\", robot.move(1))"
   ]
  },
  {
   "cell_type": "code",
   "execution_count": 10,
   "metadata": {},
   "outputs": [
    {
     "name": "stdout",
     "output_type": "stream",
     "text": [
      "initial             : 0.000  0.500  0.500  0.000  0.000  \n",
      "moved one step      : 0.050  0.000  0.050  0.450  0.450  \n"
     ]
    }
   ],
   "source": [
    "robot.set_current([0, 0.5, 0.5, 0, 0])\n",
    "formatted_print(\"initial\", robot.get_current())\n",
    "formatted_print(\"moved one step\", robot.move(2))"
   ]
  },
  {
   "cell_type": "code",
   "execution_count": 11,
   "metadata": {},
   "outputs": [
    {
     "name": "stdout",
     "output_type": "stream",
     "text": [
      "initial             : 0.000  0.500  0.000  0.500  0.000  \n",
      "moved one step      : 0.400  0.050  0.050  0.400  0.100  \n"
     ]
    }
   ],
   "source": [
    "robot.set_current([0, 0.5, 0, 0.5, 0])\n",
    "formatted_print(\"initial\", robot.get_current())\n",
    "formatted_print(\"moved one step\", robot.move(2))"
   ]
  },
  {
   "cell_type": "code",
   "execution_count": 12,
   "metadata": {},
   "outputs": [
    {
     "name": "stdout",
     "output_type": "stream",
     "text": [
      "initial             : 0.000  0.250  0.000  0.750  0.000  \n",
      "moved one step      : 0.600  0.075  0.025  0.200  0.100  \n"
     ]
    }
   ],
   "source": [
    "robot.set_current([0, 0.25, 0, 0.75, 0])\n",
    "formatted_print(\"initial\", robot.get_current())\n",
    "formatted_print(\"moved one step\", robot.move(2))"
   ]
  },
  {
   "cell_type": "code",
   "execution_count": null,
   "metadata": {
    "collapsed": true
   },
   "outputs": [],
   "source": []
  }
 ],
 "metadata": {
  "kernelspec": {
   "display_name": "Python [default]",
   "language": "python",
   "name": "python3"
  },
  "language_info": {
   "codemirror_mode": {
    "name": "ipython",
    "version": 3
   },
   "file_extension": ".py",
   "mimetype": "text/x-python",
   "name": "python",
   "nbconvert_exporter": "python",
   "pygments_lexer": "ipython3",
   "version": "3.5.2"
  },
  "widgets": {
   "state": {},
   "version": "1.1.2"
  }
 },
 "nbformat": 4,
 "nbformat_minor": 2
}
